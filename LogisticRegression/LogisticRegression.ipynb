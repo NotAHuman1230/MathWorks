{
 "cells": [
  {
   "cell_type": "markdown",
   "metadata": {},
   "source": [
    "# Logistic Regression\n",
    "I'm using some data I found in geeksforgeeks"
   ]
  },
  {
   "cell_type": "code",
   "execution_count": null,
   "metadata": {},
   "outputs": [],
   "source": [
    "#Install any packages you need\n",
    "! pip install pandas\n",
    "! pip install matplotlib\n",
    "! pip install statsmodels\n",
    "! pip install numpy"
   ]
  },
  {
   "cell_type": "markdown",
   "metadata": {},
   "source": [
    "Format and setup the data for easier manipulation"
   ]
  },
  {
   "cell_type": "code",
   "execution_count": 4,
   "metadata": {},
   "outputs": [
    {
     "data": {
      "text/html": [
       "<div>\n",
       "<style scoped>\n",
       "    .dataframe tbody tr th:only-of-type {\n",
       "        vertical-align: middle;\n",
       "    }\n",
       "\n",
       "    .dataframe tbody tr th {\n",
       "        vertical-align: top;\n",
       "    }\n",
       "\n",
       "    .dataframe thead th {\n",
       "        text-align: right;\n",
       "    }\n",
       "</style>\n",
       "<table border=\"1\" class=\"dataframe\">\n",
       "  <thead>\n",
       "    <tr style=\"text-align: right;\">\n",
       "      <th></th>\n",
       "      <th>gmat</th>\n",
       "      <th>gpa</th>\n",
       "      <th>work experience</th>\n",
       "      <th>admitted</th>\n",
       "    </tr>\n",
       "  </thead>\n",
       "  <tbody>\n",
       "    <tr>\n",
       "      <th>0</th>\n",
       "      <td>580</td>\n",
       "      <td>2.7</td>\n",
       "      <td>4</td>\n",
       "      <td>0</td>\n",
       "    </tr>\n",
       "    <tr>\n",
       "      <th>1</th>\n",
       "      <td>660</td>\n",
       "      <td>3.3</td>\n",
       "      <td>6</td>\n",
       "      <td>1</td>\n",
       "    </tr>\n",
       "    <tr>\n",
       "      <th>2</th>\n",
       "      <td>740</td>\n",
       "      <td>3.3</td>\n",
       "      <td>5</td>\n",
       "      <td>1</td>\n",
       "    </tr>\n",
       "    <tr>\n",
       "      <th>3</th>\n",
       "      <td>590</td>\n",
       "      <td>1.7</td>\n",
       "      <td>4</td>\n",
       "      <td>0</td>\n",
       "    </tr>\n",
       "    <tr>\n",
       "      <th>4</th>\n",
       "      <td>660</td>\n",
       "      <td>4.0</td>\n",
       "      <td>4</td>\n",
       "      <td>1</td>\n",
       "    </tr>\n",
       "  </tbody>\n",
       "</table>\n",
       "</div>"
      ],
      "text/plain": [
       "   gmat  gpa  work experience  admitted\n",
       "0   580  2.7                4         0\n",
       "1   660  3.3                6         1\n",
       "2   740  3.3                5         1\n",
       "3   590  1.7                4         0\n",
       "4   660  4.0                4         1"
      ]
     },
     "execution_count": 4,
     "metadata": {},
     "output_type": "execute_result"
    }
   ],
   "source": [
    "import pandas as pd\n",
    "\n",
    "data = pd.read_csv('Data.csv')\n",
    "#These are the values most likely to change\n",
    "independents = ['gmat', 'gpa', 'work experience']\n",
    "dependent = 'admitted'\n",
    "\n",
    "for i in data.columns:\n",
    "    data[i] = pd.to_numeric(data[i], errors='coerce')\n",
    "data = data.dropna()\n",
    "data.head()"
   ]
  },
  {
   "cell_type": "markdown",
   "metadata": {},
   "source": [
    "Plotting the distribution for the first independent variable just for visualisation"
   ]
  },
  {
   "cell_type": "code",
   "execution_count": 32,
   "metadata": {},
   "outputs": [
    {
     "data": {
      "image/png": "[encoded data removed]",
      "text/plain": [
       "<Figure size 640x480 with 1 Axes>"
      ]
     },
     "metadata": {},
     "output_type": "display_data"
    }
   ],
   "source": [
    "from matplotlib import pyplot as plt\n",
    "\n",
    "def plotting(x):\n",
    "    #These are the values most likely to change\n",
    "    plt.title(\"Probability of Admission\")\n",
    "    plt.xlabel(\"GMAT Score\")\n",
    "    plt.ylabel(\"Probability of Admission\")\n",
    "\n",
    "    plt.xlim(min(x)*0.975, max(x)*1.025)\n",
    "    plt.ylim(-0.025, 1.025)\n",
    "\n",
    "def testingScatters(testingIndependent):\n",
    "    dependentFalse = data[data[dependent] == 0]\n",
    "    dependentTrue = data[data[dependent] == 1]\n",
    "\n",
    "    plt.scatter(dependentFalse[testingIndependent], dependentFalse[dependent], color='red')\n",
    "    plt.scatter(dependentTrue[testingIndependent], dependentTrue[dependent], color='blue')\n",
    "\n",
    "testingScatters(independents[0])\n",
    "plotting(data[independents[0]])"
   ]
  },
  {
   "cell_type": "markdown",
   "metadata": {},
   "source": [
    "Generating the Logistic Regression model"
   ]
  },
  {
   "cell_type": "code",
   "execution_count": 29,
   "metadata": {},
   "outputs": [
    {
     "name": "stdout",
     "output_type": "stream",
     "text": [
      "Optimization terminated successfully.\n",
      "         Current function value: 0.474922\n",
      "         Iterations 6\n",
      "Optimization terminated successfully.\n",
      "         Current function value: 0.247296\n",
      "         Iterations 8\n"
     ]
    },
    {
     "data": {
      "text/html": [
       "<table class=\"simpletable\">\n",
       "<caption>Logit Regression Results</caption>\n",
       "<tr>\n",
       "  <th>Dep. Variable:</th>       <td>admitted</td>     <th>  No. Observations:  </th>  <td>    30</td>  \n",
       "</tr>\n",
       "<tr>\n",
       "  <th>Model:</th>                 <td>Logit</td>      <th>  Df Residuals:      </th>  <td>    26</td>  \n",
       "</tr>\n",
       "<tr>\n",
       "  <th>Method:</th>                 <td>MLE</td>       <th>  Df Model:          </th>  <td>     3</td>  \n",
       "</tr>\n",
       "<tr>\n",
       "  <th>Date:</th>            <td>Mon, 05 Feb 2024</td> <th>  Pseudo R-squ.:     </th>  <td>0.6432</td>  \n",
       "</tr>\n",
       "<tr>\n",
       "  <th>Time:</th>                <td>20:26:34</td>     <th>  Log-Likelihood:    </th> <td> -7.4189</td> \n",
       "</tr>\n",
       "<tr>\n",
       "  <th>converged:</th>             <td>True</td>       <th>  LL-Null:           </th> <td> -20.794</td> \n",
       "</tr>\n",
       "<tr>\n",
       "  <th>Covariance Type:</th>     <td>nonrobust</td>    <th>  LLR p-value:       </th> <td>6.639e-06</td>\n",
       "</tr>\n",
       "</table>\n",
       "<table class=\"simpletable\">\n",
       "<tr>\n",
       "         <td></td>            <th>coef</th>     <th>std err</th>      <th>z</th>      <th>P>|z|</th>  <th>[0.025</th>    <th>0.975]</th>  \n",
       "</tr>\n",
       "<tr>\n",
       "  <th>const</th>           <td>  -16.3315</td> <td>    8.601</td> <td>   -1.899</td> <td> 0.058</td> <td>  -33.189</td> <td>    0.526</td>\n",
       "</tr>\n",
       "<tr>\n",
       "  <th>gmat</th>            <td>    0.0025</td> <td>    0.018</td> <td>    0.141</td> <td> 0.888</td> <td>   -0.032</td> <td>    0.037</td>\n",
       "</tr>\n",
       "<tr>\n",
       "  <th>gpa</th>             <td>    3.3208</td> <td>    2.397</td> <td>    1.385</td> <td> 0.166</td> <td>   -1.378</td> <td>    8.020</td>\n",
       "</tr>\n",
       "<tr>\n",
       "  <th>work experience</th> <td>    0.9975</td> <td>    0.585</td> <td>    1.704</td> <td> 0.088</td> <td>   -0.150</td> <td>    2.145</td>\n",
       "</tr>\n",
       "</table>"
      ],
      "text/latex": [
       "\\begin{center}\n",
       "\\begin{tabular}{lclc}\n",
       "\\toprule\n",
       "\\textbf{Dep. Variable:}   &     admitted     & \\textbf{  No. Observations:  } &       30    \\\\\n",
       "\\textbf{Model:}           &      Logit       & \\textbf{  Df Residuals:      } &       26    \\\\\n",
       "\\textbf{Method:}          &       MLE        & \\textbf{  Df Model:          } &        3    \\\\\n",
       "\\textbf{Date:}            & Mon, 05 Feb 2024 & \\textbf{  Pseudo R-squ.:     } &   0.6432    \\\\\n",
       "\\textbf{Time:}            &     20:26:34     & \\textbf{  Log-Likelihood:    } &   -7.4189   \\\\\n",
       "\\textbf{converged:}       &       True       & \\textbf{  LL-Null:           } &   -20.794   \\\\\n",
       "\\textbf{Covariance Type:} &    nonrobust     & \\textbf{  LLR p-value:       } & 6.639e-06   \\\\\n",
       "\\bottomrule\n",
       "\\end{tabular}\n",
       "\\begin{tabular}{lcccccc}\n",
       "                         & \\textbf{coef} & \\textbf{std err} & \\textbf{z} & \\textbf{P$> |$z$|$} & \\textbf{[0.025} & \\textbf{0.975]}  \\\\\n",
       "\\midrule\n",
       "\\textbf{const}           &     -16.3315  &        8.601     &    -1.899  &         0.058        &      -33.189    &        0.526     \\\\\n",
       "\\textbf{gmat}            &       0.0025  &        0.018     &     0.141  &         0.888        &       -0.032    &        0.037     \\\\\n",
       "\\textbf{gpa}             &       3.3208  &        2.397     &     1.385  &         0.166        &       -1.378    &        8.020     \\\\\n",
       "\\textbf{work experience} &       0.9975  &        0.585     &     1.704  &         0.088        &       -0.150    &        2.145     \\\\\n",
       "\\bottomrule\n",
       "\\end{tabular}\n",
       "%\\caption{Logit Regression Results}\n",
       "\\end{center}"
      ],
      "text/plain": [
       "<class 'statsmodels.iolib.summary.Summary'>\n",
       "\"\"\"\n",
       "                           Logit Regression Results                           \n",
       "==============================================================================\n",
       "Dep. Variable:               admitted   No. Observations:                   30\n",
       "Model:                          Logit   Df Residuals:                       26\n",
       "Method:                           MLE   Df Model:                            3\n",
       "Date:                Mon, 05 Feb 2024   Pseudo R-squ.:                  0.6432\n",
       "Time:                        20:26:34   Log-Likelihood:                -7.4189\n",
       "converged:                       True   LL-Null:                       -20.794\n",
       "Covariance Type:            nonrobust   LLR p-value:                 6.639e-06\n",
       "===================================================================================\n",
       "                      coef    std err          z      P>|z|      [0.025      0.975]\n",
       "-----------------------------------------------------------------------------------\n",
       "const             -16.3315      8.601     -1.899      0.058     -33.189       0.526\n",
       "gmat                0.0025      0.018      0.141      0.888      -0.032       0.037\n",
       "gpa                 3.3208      2.397      1.385      0.166      -1.378       8.020\n",
       "work experience     0.9975      0.585      1.704      0.088      -0.150       2.145\n",
       "===================================================================================\n",
       "\"\"\""
      ]
     },
     "execution_count": 29,
     "metadata": {},
     "output_type": "execute_result"
    }
   ],
   "source": [
    "import statsmodels.api as sm\n",
    "\n",
    "testingModel = sm.Logit(data[dependent], sm.add_constant(data[independents[0]])).fit()\n",
    "\n",
    "model = sm.Logit(data[dependent], sm.add_constant(data[independents])).fit()\n",
    "model.summary()"
   ]
  },
  {
   "cell_type": "markdown",
   "metadata": {},
   "source": [
    "Plotting the model towards first independent variable for visualisation"
   ]
  },
  {
   "cell_type": "code",
   "execution_count": 35,
   "metadata": {},
   "outputs": [
    {
     "data": {
      "image/png": "[encoded data removed]",
      "text/plain": [
       "<Figure size 640x480 with 1 Axes>"
      ]
     },
     "metadata": {},
     "output_type": "display_data"
    }
   ],
   "source": [
    "import numpy as np\n",
    "\n",
    "visualisationValues = np.arange(min(data[independents[0]]), max(data[independents[0]]), 0.01)\n",
    "prediction = testingModel.predict(sm.add_constant(visualisationValues))\n",
    "\n",
    "plt.plot(visualisationValues, prediction, color='orange')\n",
    "\n",
    "testingScatters(independents[0])\n",
    "plotting(data[independents[0]])"
   ]
  },
  {
   "cell_type": "markdown",
   "metadata": {},
   "source": [
    "Creating a table for our custom inputs"
   ]
  },
  {
   "cell_type": "code",
   "execution_count": 72,
   "metadata": {},
   "outputs": [
    {
     "data": {
      "text/html": [
       "<div>\n",
       "<style scoped>\n",
       "    .dataframe tbody tr th:only-of-type {\n",
       "        vertical-align: middle;\n",
       "    }\n",
       "\n",
       "    .dataframe tbody tr th {\n",
       "        vertical-align: top;\n",
       "    }\n",
       "\n",
       "    .dataframe thead th {\n",
       "        text-align: right;\n",
       "    }\n",
       "</style>\n",
       "<table border=\"1\" class=\"dataframe\">\n",
       "  <thead>\n",
       "    <tr style=\"text-align: right;\">\n",
       "      <th></th>\n",
       "      <th>gmat</th>\n",
       "      <th>gpa</th>\n",
       "      <th>work experience</th>\n",
       "      <th>Predicted admitted probability</th>\n",
       "    </tr>\n",
       "  </thead>\n",
       "  <tbody>\n",
       "    <tr>\n",
       "      <th>0</th>\n",
       "      <td>400</td>\n",
       "      <td>4</td>\n",
       "      <td>4</td>\n",
       "      <td>0.874679</td>\n",
       "    </tr>\n",
       "    <tr>\n",
       "      <th>1</th>\n",
       "      <td>600</td>\n",
       "      <td>3</td>\n",
       "      <td>5</td>\n",
       "      <td>0.530073</td>\n",
       "    </tr>\n",
       "  </tbody>\n",
       "</table>\n",
       "</div>"
      ],
      "text/plain": [
       "   gmat  gpa  work experience  Predicted admitted probability\n",
       "0   400    4                4                        0.874679\n",
       "1   600    3                5                        0.530073"
      ]
     },
     "execution_count": 72,
     "metadata": {},
     "output_type": "execute_result"
    }
   ],
   "source": [
    "predictionValues = [[400, 4, 4],\n",
    "                    [600, 3, 5]]\n",
    "predictionFrame = pd.DataFrame()\n",
    "\n",
    "for i, v in enumerate(predictionValues[0]):\n",
    "    predictionFrame[independents[i]] = [x[i] for x in predictionValues]\n",
    "\n",
    "prediction = model.predict(sm.add_constant(predictionFrame))\n",
    "predictionFrame[f\"Predicted {dependent} probability\"] = prediction\n",
    "predictionFrame"
   ]
  }
 ],
 "metadata": {
  "kernelspec": {
   "display_name": "Python 3",
   "language": "python",
   "name": "python3"
  },
  "language_info": {
   "codemirror_mode": {
    "name": "ipython",
    "version": 3
   },
   "file_extension": ".py",
   "mimetype": "text/x-python",
   "name": "python",
   "nbconvert_exporter": "python",
   "pygments_lexer": "ipython3",
   "version": "3.9.5"
  }
 },
 "nbformat": 4,
 "nbformat_minor": 2
}
