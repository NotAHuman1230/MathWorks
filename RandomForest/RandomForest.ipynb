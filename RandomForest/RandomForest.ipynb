{
 "cells": [
  {
   "cell_type": "code",
   "execution_count": null,
   "metadata": {},
   "outputs": [],
   "source": [
    "#Install any packages you need\n",
    "! pip install pandas\n",
    "! pip install matplotlib\n",
    "! pip install statsmodels\n",
    "! pip install numpy"
   ]
  },
  {
   "cell_type": "code",
   "execution_count": 1,
   "metadata": {},
   "outputs": [
    {
     "data": {
      "text/html": [
       "<div>\n",
       "<style scoped>\n",
       "    .dataframe tbody tr th:only-of-type {\n",
       "        vertical-align: middle;\n",
       "    }\n",
       "\n",
       "    .dataframe tbody tr th {\n",
       "        vertical-align: top;\n",
       "    }\n",
       "\n",
       "    .dataframe thead th {\n",
       "        text-align: right;\n",
       "    }\n",
       "</style>\n",
       "<table border=\"1\" class=\"dataframe\">\n",
       "  <thead>\n",
       "    <tr style=\"text-align: right;\">\n",
       "      <th></th>\n",
       "      <th>gmat</th>\n",
       "      <th>gpa</th>\n",
       "      <th>work experience</th>\n",
       "      <th>admitted</th>\n",
       "    </tr>\n",
       "  </thead>\n",
       "  <tbody>\n",
       "    <tr>\n",
       "      <th>0</th>\n",
       "      <td>580</td>\n",
       "      <td>2.7</td>\n",
       "      <td>4</td>\n",
       "      <td>0</td>\n",
       "    </tr>\n",
       "    <tr>\n",
       "      <th>1</th>\n",
       "      <td>660</td>\n",
       "      <td>3.3</td>\n",
       "      <td>6</td>\n",
       "      <td>1</td>\n",
       "    </tr>\n",
       "    <tr>\n",
       "      <th>2</th>\n",
       "      <td>740</td>\n",
       "      <td>3.3</td>\n",
       "      <td>5</td>\n",
       "      <td>1</td>\n",
       "    </tr>\n",
       "    <tr>\n",
       "      <th>3</th>\n",
       "      <td>590</td>\n",
       "      <td>1.7</td>\n",
       "      <td>4</td>\n",
       "      <td>0</td>\n",
       "    </tr>\n",
       "    <tr>\n",
       "      <th>4</th>\n",
       "      <td>660</td>\n",
       "      <td>4.0</td>\n",
       "      <td>4</td>\n",
       "      <td>1</td>\n",
       "    </tr>\n",
       "  </tbody>\n",
       "</table>\n",
       "</div>"
      ],
      "text/plain": [
       "   gmat  gpa  work experience  admitted\n",
       "0   580  2.7                4         0\n",
       "1   660  3.3                6         1\n",
       "2   740  3.3                5         1\n",
       "3   590  1.7                4         0\n",
       "4   660  4.0                4         1"
      ]
     },
     "execution_count": 1,
     "metadata": {},
     "output_type": "execute_result"
    }
   ],
   "source": [
    "import pandas as pd\n",
    "\n",
    "data = pd.read_csv('Data.csv')\n",
    "#These are the values most likely to change\n",
    "independents = ['gmat', 'gpa', 'work experience']\n",
    "dependent = 'admitted'\n",
    "\n",
    "for i in data.columns:\n",
    "    data[i] = pd.to_numeric(data[i], errors='coerce')\n",
    "data = data.dropna()\n",
    "data.head()"
   ]
  },
  {
   "cell_type": "code",
   "execution_count": 2,
   "metadata": {},
   "outputs": [
    {
     "data": {
      "image/png": "[encoded data removed]",
      "text/plain": [
       "<Figure size 640x480 with 1 Axes>"
      ]
     },
     "metadata": {},
     "output_type": "display_data"
    }
   ],
   "source": [
    "from matplotlib import pyplot as plt\n",
    "\n",
    "def plotting(x):\n",
    "    #These are the values most likely to change\n",
    "    plt.title(\"Probability of Admission\")\n",
    "    plt.xlabel(\"GMAT Score\")\n",
    "    plt.ylabel(\"Probability of Admission\")\n",
    "\n",
    "    plt.xlim(min(x)*0.975, max(x)*1.025)\n",
    "    plt.ylim(-0.025, 1.025)\n",
    "\n",
    "def testingScatters(testingIndependent):\n",
    "    dependentFalse = data[data[dependent] == 0]\n",
    "    dependentTrue = data[data[dependent] == 1]\n",
    "\n",
    "    plt.scatter(dependentFalse[testingIndependent], dependentFalse[dependent], color='red')\n",
    "    plt.scatter(dependentTrue[testingIndependent], dependentTrue[dependent], color='blue')\n",
    "\n",
    "testingScatters(independents[0])\n",
    "plotting(data[independents[0]])"
   ]
  },
  {
   "cell_type": "code",
   "execution_count": 44,
   "metadata": {},
   "outputs": [
    {
     "data": {
      "text/plain": [
       "(   gmat  gpa  work experience  admitted\n",
       " 0   580  2.7                4         0\n",
       " 1   660  3.3                6         1\n",
       " 2   740  3.3                5         1\n",
       " 3   590  1.7                4         0\n",
       " 4   660  4.0                4         1,\n",
       "    gmat  gpa  work experience  admitted\n",
       " 0   580  2.7                4         0\n",
       " 1   660  3.3                6         1\n",
       " 2   740  3.3                5         1\n",
       " 3   590  1.7                4         0\n",
       " 4   660  4.0                4         1)"
      ]
     },
     "execution_count": 44,
     "metadata": {},
     "output_type": "execute_result"
    }
   ],
   "source": [
    "trainingData = data.iloc[0::]\n",
    "testingingData = data.iloc[0::]\n",
    "\n",
    "trainingData.head(), testingingData.head()"
   ]
  },
  {
   "cell_type": "code",
   "execution_count": 52,
   "metadata": {},
   "outputs": [
    {
     "data": {
      "text/plain": [
       "0.9333333333333333"
      ]
     },
     "execution_count": 52,
     "metadata": {},
     "output_type": "execute_result"
    }
   ],
   "source": [
    "from sklearn.ensemble import RandomForestClassifier\n",
    "\n",
    "forestPopulation = 1000\n",
    "\n",
    "testingModel = RandomForestClassifier(n_estimators=forestPopulation)\n",
    "testingModel.fit(trainingData[[independents[0]]], trainingData[dependent])\n",
    "\n",
    "model = RandomForestClassifier(n_estimators=forestPopulation)\n",
    "model.fit(trainingData[independents], trainingData[dependent])\n",
    "model.score(testingingData[independents], testingingData[dependent])"
   ]
  },
  {
   "cell_type": "code",
   "execution_count": 53,
   "metadata": {},
   "outputs": [
    {
     "data": {
      "image/png": "[encoded data removed]",
      "text/plain": [
       "<Figure size 640x480 with 1 Axes>"
      ]
     },
     "metadata": {},
     "output_type": "display_data"
    }
   ],
   "source": [
    "import numpy as np\n",
    "\n",
    "visualisationValues = np.arange(min(data[independents[0]]), max(data[independents[0]]), 0.01)\n",
    "frame = pd.DataFrame({independents[0]: visualisationValues})\n",
    "prediction = [i[1] for i in testingModel.predict_proba(frame[[independents[0]]])]\n",
    "\n",
    "plt.plot(visualisationValues, prediction, color='orange')\n",
    "\n",
    "testingScatters(independents[0])\n",
    "plotting(data[independents[0]])"
   ]
  },
  {
   "cell_type": "code",
   "execution_count": 54,
   "metadata": {},
   "outputs": [
    {
     "data": {
      "text/html": [
       "<div>\n",
       "<style scoped>\n",
       "    .dataframe tbody tr th:only-of-type {\n",
       "        vertical-align: middle;\n",
       "    }\n",
       "\n",
       "    .dataframe tbody tr th {\n",
       "        vertical-align: top;\n",
       "    }\n",
       "\n",
       "    .dataframe thead th {\n",
       "        text-align: right;\n",
       "    }\n",
       "</style>\n",
       "<table border=\"1\" class=\"dataframe\">\n",
       "  <thead>\n",
       "    <tr style=\"text-align: right;\">\n",
       "      <th></th>\n",
       "      <th>gmat</th>\n",
       "      <th>gpa</th>\n",
       "      <th>work experience</th>\n",
       "      <th>Predicted admitted probability</th>\n",
       "    </tr>\n",
       "  </thead>\n",
       "  <tbody>\n",
       "    <tr>\n",
       "      <th>0</th>\n",
       "      <td>400</td>\n",
       "      <td>4</td>\n",
       "      <td>4</td>\n",
       "      <td>0.552</td>\n",
       "    </tr>\n",
       "    <tr>\n",
       "      <th>1</th>\n",
       "      <td>600</td>\n",
       "      <td>3</td>\n",
       "      <td>5</td>\n",
       "      <td>0.378</td>\n",
       "    </tr>\n",
       "  </tbody>\n",
       "</table>\n",
       "</div>"
      ],
      "text/plain": [
       "   gmat  gpa  work experience  Predicted admitted probability\n",
       "0   400    4                4                           0.552\n",
       "1   600    3                5                           0.378"
      ]
     },
     "execution_count": 54,
     "metadata": {},
     "output_type": "execute_result"
    }
   ],
   "source": [
    "predictionValues = [[400, 4, 4],\n",
    "                    [600, 3, 5]]\n",
    "predictionFrame = pd.DataFrame()\n",
    "\n",
    "for i, v in enumerate(predictionValues[0]):\n",
    "    predictionFrame[independents[i]] = [x[i] for x in predictionValues]\n",
    "\n",
    "prediction = model.predict_proba(predictionFrame)\n",
    "predictionFrame[f\"Predicted {dependent} probability\"] = [x[1] for x in prediction]\n",
    "predictionFrame"
   ]
  }
 ],
 "metadata": {
  "kernelspec": {
   "display_name": "Python 3",
   "language": "python",
   "name": "python3"
  },
  "language_info": {
   "codemirror_mode": {
    "name": "ipython",
    "version": 3
   },
   "file_extension": ".py",
   "mimetype": "text/x-python",
   "name": "python",
   "nbconvert_exporter": "python",
   "pygments_lexer": "ipython3",
   "version": "3.9.5"
  }
 },
 "nbformat": 4,
 "nbformat_minor": 2
}
